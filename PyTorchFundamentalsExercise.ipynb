{
  "nbformat": 4,
  "nbformat_minor": 0,
  "metadata": {
    "colab": {
      "provenance": [],
      "authorship_tag": "ABX9TyPsAjIVL9D5w/IjrtMn4CIc",
      "include_colab_link": true
    },
    "kernelspec": {
      "name": "python3",
      "display_name": "Python 3"
    },
    "language_info": {
      "name": "python"
    }
  },
  "cells": [
    {
      "cell_type": "markdown",
      "metadata": {
        "id": "view-in-github",
        "colab_type": "text"
      },
      "source": [
        "<a href=\"https://colab.research.google.com/github/fahriyegrl/PyTorch-Fundamentals/blob/main/PyTorchFundamentalsExercise.ipynb\" target=\"_parent\"><img src=\"https://colab.research.google.com/assets/colab-badge.svg\" alt=\"Open In Colab\"/></a>"
      ]
    },
    {
      "cell_type": "markdown",
      "source": [
        "1-Create a random tensor with shape (7, 7)."
      ],
      "metadata": {
        "id": "GxGwccItfQ9w"
      }
    },
    {
      "cell_type": "code",
      "source": [
        "import torch\n",
        "\n",
        "# Create random tensor\n",
        "X = torch.rand(size=(7, 7))\n",
        "X, X.shape"
      ],
      "metadata": {
        "colab": {
          "base_uri": "https://localhost:8080/"
        },
        "id": "wrbJ-z00fSGf",
        "outputId": "b3696d62-a0d0-4990-8002-ea51a6223fe0"
      },
      "execution_count": null,
      "outputs": [
        {
          "output_type": "execute_result",
          "data": {
            "text/plain": [
              "(tensor([[0.8986, 0.1694, 0.3542, 0.1529, 0.4444, 0.7191, 0.1600],\n",
              "         [0.8739, 0.3128, 0.9602, 0.6810, 0.2264, 0.0333, 0.4921],\n",
              "         [0.3611, 0.9140, 0.0765, 0.1767, 0.2779, 0.2402, 0.1348],\n",
              "         [0.4275, 0.0347, 0.9268, 0.3550, 0.9846, 0.7701, 0.9359],\n",
              "         [0.3440, 0.8634, 0.4526, 0.9841, 0.0610, 0.6304, 0.5562],\n",
              "         [0.3573, 0.4701, 0.9876, 0.3601, 0.0185, 0.0965, 0.8084],\n",
              "         [0.5956, 0.7153, 0.9372, 0.2896, 0.0913, 0.3248, 0.0228]]),\n",
              " torch.Size([7, 7]))"
            ]
          },
          "metadata": {},
          "execution_count": 1
        }
      ]
    },
    {
      "cell_type": "markdown",
      "source": [
        "2-Perform a matrix multiplication on the tensor from 2 with another random tensor with shape (1, 7) (hint: you may have to transpose the second tensor)."
      ],
      "metadata": {
        "id": "hsZQUhHafclJ"
      }
    },
    {
      "cell_type": "code",
      "source": [
        "# Create another random tensor\n",
        "Y = torch.rand(size=(1, 7))\n",
        "# Z = torch.matmul(X, Y) # will error because of shape issues\n",
        "Z = torch.matmul(X, Y.T) # no error because of transpose\n",
        "Z, Z.shape"
      ],
      "metadata": {
        "colab": {
          "base_uri": "https://localhost:8080/"
        },
        "id": "ImxLT3aNffFr",
        "outputId": "0a8053b3-797b-419e-90ec-72319ae2a14e"
      },
      "execution_count": null,
      "outputs": [
        {
          "output_type": "execute_result",
          "data": {
            "text/plain": [
              "(tensor([[1.3134],\n",
              "         [2.0512],\n",
              "         [1.4622],\n",
              "         [2.2326],\n",
              "         [2.2564],\n",
              "         [1.9423],\n",
              "         [1.5606]]),\n",
              " torch.Size([7, 1]))"
            ]
          },
          "metadata": {},
          "execution_count": 2
        }
      ]
    },
    {
      "cell_type": "markdown",
      "source": [],
      "metadata": {
        "id": "AQF0Bxy5fDHY"
      }
    },
    {
      "cell_type": "markdown",
      "source": [
        "3-Set the random seed to 0 and do 2 & 3 over again."
      ],
      "metadata": {
        "id": "m3ULObk8fwDO"
      }
    },
    {
      "cell_type": "code",
      "source": [
        "# Set manual seed\n",
        "torch.manual_seed(0)\n",
        "\n",
        "# Create two random tensors\n",
        "X = torch.rand(size=(7, 7))\n",
        "Y = torch.rand(size=(1, 7))\n",
        "\n",
        "# Matrix multiply tensors\n",
        "Z = torch.matmul(X, Y.T)\n",
        "Z, Z.shape"
      ],
      "metadata": {
        "colab": {
          "base_uri": "https://localhost:8080/"
        },
        "id": "qUFkS_JJfx1o",
        "outputId": "9de0e5b2-3620-4807-a8ec-edb0af37bc2f"
      },
      "execution_count": null,
      "outputs": [
        {
          "output_type": "execute_result",
          "data": {
            "text/plain": [
              "(tensor([[1.8542],\n",
              "         [1.9611],\n",
              "         [2.2884],\n",
              "         [3.0481],\n",
              "         [1.7067],\n",
              "         [2.5290],\n",
              "         [1.7989]]),\n",
              " torch.Size([7, 1]))"
            ]
          },
          "metadata": {},
          "execution_count": 3
        }
      ]
    },
    {
      "cell_type": "markdown",
      "source": [
        "4-Speaking of random seeds, we saw how to set it with torch.manual_seed() but is there a GPU equivalent? (hint: you'll need to look into the documentation for torch.cuda for this one)"
      ],
      "metadata": {
        "id": "V0dHm5Clf5Gv"
      }
    },
    {
      "cell_type": "code",
      "source": [
        "# Set random seed on the GPU\n",
        "torch.cuda.manual_seed(1234)"
      ],
      "metadata": {
        "id": "pL7WZwXEf6uz"
      },
      "execution_count": null,
      "outputs": []
    },
    {
      "cell_type": "markdown",
      "source": [
        "5- Create two random tensors of shape (2, 3) and send them both to the GPU (you'll need access to a GPU for this). Set torch.manual_seed(1234) when creating the tensors (this doesn't have to be the GPU random seed)."
      ],
      "metadata": {
        "id": "h0pU47YkgRb6"
      }
    },
    {
      "cell_type": "code",
      "source": [
        "# Set random seed\n",
        "torch.manual_seed(1234)\n",
        "\n",
        "# Check for access to GPU\n",
        "device = \"cuda\" if torch.cuda.is_available() else \"cpu\"\n",
        "print(f\"Device: {device}\")\n",
        "\n",
        "# Create two random tensors on GPU\n",
        "tensor_A = torch.rand(size=(2,3)).to(device)\n",
        "tensor_B = torch.rand(size=(2,3)).to(device)\n",
        "tensor_A, tensor_B"
      ],
      "metadata": {
        "colab": {
          "base_uri": "https://localhost:8080/"
        },
        "id": "ambU3L1dgTA9",
        "outputId": "d3ba8e85-60c7-4f11-a1cb-dadf2c1e0105"
      },
      "execution_count": null,
      "outputs": [
        {
          "output_type": "stream",
          "name": "stdout",
          "text": [
            "Device: cpu\n"
          ]
        },
        {
          "output_type": "execute_result",
          "data": {
            "text/plain": [
              "(tensor([[0.0290, 0.4019, 0.2598],\n",
              "         [0.3666, 0.0583, 0.7006]]),\n",
              " tensor([[0.0518, 0.4681, 0.6738],\n",
              "         [0.3315, 0.7837, 0.5631]]))"
            ]
          },
          "metadata": {},
          "execution_count": 6
        }
      ]
    },
    {
      "cell_type": "markdown",
      "source": [
        "6-Perform a matrix multiplication on the tensors you created in 6 (again, you may have to adjust the shapes of one of the tensors)."
      ],
      "metadata": {
        "id": "7O7HU-bQgo3O"
      }
    },
    {
      "cell_type": "code",
      "source": [
        "# Perform matmul on tensor_A and tensor_B\n",
        "# tensor_C = torch.matmul(tensor_A, tensor_B) # won't work because of shape error\n",
        "tensor_C = torch.matmul(tensor_A, tensor_B.T)\n",
        "tensor_C, tensor_C.shape"
      ],
      "metadata": {
        "colab": {
          "base_uri": "https://localhost:8080/"
        },
        "id": "girBiQrlg0aq",
        "outputId": "26082b6f-82a7-4aec-ed43-2950a861156f"
      },
      "execution_count": null,
      "outputs": [
        {
          "output_type": "execute_result",
          "data": {
            "text/plain": [
              "(tensor([[0.3647, 0.4709],\n",
              "         [0.5184, 0.5617]]),\n",
              " torch.Size([2, 2]))"
            ]
          },
          "metadata": {},
          "execution_count": 7
        }
      ]
    },
    {
      "cell_type": "markdown",
      "source": [
        "7-Find the maximum and minimum values of the output of 7."
      ],
      "metadata": {
        "id": "akg8XPKcg7sa"
      }
    },
    {
      "cell_type": "code",
      "source": [
        "# Find max\n",
        "max = torch.max(tensor_C)\n",
        "\n",
        "# Find min\n",
        "min = torch.min(tensor_C)\n",
        "max, min"
      ],
      "metadata": {
        "colab": {
          "base_uri": "https://localhost:8080/"
        },
        "id": "KRajxc46g8uI",
        "outputId": "d66f9f62-3b70-4cb7-e1da-0e8f2f99290f"
      },
      "execution_count": null,
      "outputs": [
        {
          "output_type": "execute_result",
          "data": {
            "text/plain": [
              "(tensor(0.5617), tensor(0.3647))"
            ]
          },
          "metadata": {},
          "execution_count": 8
        }
      ]
    },
    {
      "cell_type": "markdown",
      "source": [
        "8-Find the maximum and minimum index values of the output of 7."
      ],
      "metadata": {
        "id": "7pt-phzohDRG"
      }
    },
    {
      "cell_type": "code",
      "source": [
        "# Find arg max\n",
        "arg_max = torch.argmax(tensor_C)\n",
        "\n",
        "# Find arg min\n",
        "arg_min = torch.argmin(tensor_C)\n",
        "arg_max, arg_min\n"
      ],
      "metadata": {
        "colab": {
          "base_uri": "https://localhost:8080/"
        },
        "id": "K7s9GYvThF4m",
        "outputId": "324860d4-c3a6-48c5-f38b-158ced75953a"
      },
      "execution_count": null,
      "outputs": [
        {
          "output_type": "execute_result",
          "data": {
            "text/plain": [
              "(tensor(3), tensor(0))"
            ]
          },
          "metadata": {},
          "execution_count": 9
        }
      ]
    },
    {
      "cell_type": "markdown",
      "source": [
        "9- Make a random tensor with shape (1, 1, 1, 10) and then create a new tensor with all the 1 dimensions removed to be left with a tensor of shape (10). Set the seed to 7 when you create it and print out the first tensor and it's shape as well as the second tensor and it's shape."
      ],
      "metadata": {
        "id": "Jnj7BPoBhXYs"
      }
    },
    {
      "cell_type": "code",
      "source": [
        "# Set seed\n",
        "torch.manual_seed(7)\n",
        "\n",
        "# Create random tensor\n",
        "tensor_D = torch.rand(size=(1, 1, 1, 10))\n",
        "\n",
        "# Remove single dimensions\n",
        "tensor_E = tensor_D.squeeze()\n",
        "\n",
        "# Print out tensors\n",
        "print(tensor_D, tensor_D.shape)\n",
        "print(tensor_E, tensor_E.shape)"
      ],
      "metadata": {
        "colab": {
          "base_uri": "https://localhost:8080/"
        },
        "id": "Sdd29M0qhbLS",
        "outputId": "7a497bd4-b562-44af-c79f-726f6903ed0b"
      },
      "execution_count": null,
      "outputs": [
        {
          "output_type": "stream",
          "name": "stdout",
          "text": [
            "tensor([[[[0.5349, 0.1988, 0.6592, 0.6569, 0.2328, 0.4251, 0.2071, 0.6297,\n",
            "           0.3653, 0.8513]]]]) torch.Size([1, 1, 1, 10])\n",
            "tensor([0.5349, 0.1988, 0.6592, 0.6569, 0.2328, 0.4251, 0.2071, 0.6297, 0.3653,\n",
            "        0.8513]) torch.Size([10])\n"
          ]
        }
      ]
    }
  ]
}